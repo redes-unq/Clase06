{
 "cells": [
  {
   "cell_type": "code",
   "execution_count": 21,
   "metadata": {
    "scrolled": false
   },
   "outputs": [],
   "source": [
    "# Selecciono datos de las imágenes haciendo clic\n",
    "\n",
    "%matplotlib qt\n",
    "\n",
    "import matplotlib.pyplot as plt\n",
    "import neurolab as nl\n",
    "import numpy as np\n",
    "import pylab\n",
    "from PIL import Image\n",
    "\n",
    "pylab.gray()\n",
    "\n",
    "N = 4 # Cantidad de muestras de cada tipo\n",
    "\n",
    "# close open figures\n",
    "plt.close(\"all\")\n",
    "#plt.ioff()\n",
    "\n",
    "im = []\n",
    "im.append(Image.open(\"mi1.png\"));\n",
    "im.append(Image.open(\"mi2.png\"));\n",
    "im.append(Image.open(\"mi3.png\"));\n",
    "\n",
    "ESCALA = 4\n",
    "\n",
    "coso = []\n",
    "coso.append('materia blanca')\n",
    "coso.append('materia gris')\n",
    "coso.append('liquido cefaloraquideo')\n",
    "coso.append('fond')\n",
    "\n",
    "target = [1, 0, 0, 0]\n",
    "\n",
    "# archivo = scipy.io.loadmat('datos_guia4_ej5_mri.mat')\n",
    "# archivo.keys()\n",
    "# mi1 = archivo['mi1']\n",
    "# mi2 = archivo['mi2']\n",
    "# mi3 = archivo['mi3']\n",
    "\n",
    "p = []\n",
    "t = []\n",
    "i = 0\n",
    "\n",
    "fig = plt.figure(figsize=(1 * ESCALA, 1 * ESCALA), dpi=150)\n",
    "fig.subplots_adjust(hspace=0.1, wspace=0.1)\n",
    "\n",
    "ax1 = fig.add_subplot(131)\n",
    "ax1.imshow(im[0])\n",
    "\n",
    "ax1.get_xaxis().set_visible(False)\n",
    "ax1.get_yaxis().set_visible(False)\n",
    "\n",
    "ax3 = fig.add_subplot(133)\n",
    "ax3.imshow(im[2])\n",
    "\n",
    "ax3.get_xaxis().set_visible(False)\n",
    "ax3.get_yaxis().set_visible(False)\n",
    "\n",
    "ax2 = fig.add_subplot(132)\n",
    "ax2.imshow(im[1])\n",
    "\n",
    "ax2.get_xaxis().set_visible(False)\n",
    "ax2.get_yaxis().set_visible(False)\n",
    "\n",
    "titulo = plt.suptitle(\"Ingrese %d muestras por cada cosito\" % N, ha='center', fontsize=9)\n",
    "subtitulo = plt.title(\"Faltan %d muestras de %s\" % (N, coso[0]), ha='center', fontsize=9)\n",
    "\n",
    "plt.draw()\n",
    "\n",
    "for i in range(4):\n",
    "    for j in range(N):\n",
    "        pts = pylab.ginput(1)[0]\n",
    "        #print(pts)\n",
    "        color_mb = im[0].getpixel((pts[0], pts[1]))\n",
    "        color_mg = im[1].getpixel((pts[0], pts[1]))\n",
    "        color_cf = im[2].getpixel((pts[0], pts[1]))\n",
    "        p.append((color_mb, color_mg, color_cf))\n",
    "        if (i == 0):\n",
    "            t.append((1, 0, 0, 0))\n",
    "        elif (i == 1):\n",
    "            t.append((0, 1, 0, 0))\n",
    "        elif (i == 2):\n",
    "            t.append((0, 0, 1, 0))\n",
    "        elif (i == 3):\n",
    "            t.append((0, 0, 0, 1))\n",
    "        if ((j == N - 1) and i < 3):\n",
    "            subtitulo.set_text(\"Faltan %d muestras de %s\" % (N, coso[i+1]))\n",
    "        else:\n",
    "            subtitulo.set_text(\"Faltan %d muestras de %s\" % (N - j - 1, coso[i]))\n",
    "        plt.draw()\n",
    "\n",
    "plt.close()\n",
    "\n"
   ]
  },
  {
   "cell_type": "code",
   "execution_count": 1,
   "metadata": {},
   "outputs": [
    {
     "ename": "NameError",
     "evalue": "name 'nl' is not defined",
     "output_type": "error",
     "traceback": [
      "\u001b[1;31m---------------------------------------------------------------------------\u001b[0m",
      "\u001b[1;31mNameError\u001b[0m                                 Traceback (most recent call last)",
      "\u001b[1;32m<ipython-input-1-033da4e48935>\u001b[0m in \u001b[0;36m<module>\u001b[1;34m\u001b[0m\n\u001b[0;32m      1\u001b[0m \u001b[1;31m# Entreno la red neuronal con los datos obtenidos previamente\u001b[0m\u001b[1;33m\u001b[0m\u001b[1;33m\u001b[0m\u001b[1;33m\u001b[0m\u001b[0m\n\u001b[0;32m      2\u001b[0m \u001b[1;33m\u001b[0m\u001b[0m\n\u001b[1;32m----> 3\u001b[1;33m \u001b[0mred\u001b[0m \u001b[1;33m=\u001b[0m \u001b[0mnl\u001b[0m\u001b[1;33m.\u001b[0m\u001b[0mnet\u001b[0m\u001b[1;33m.\u001b[0m\u001b[0mnewff\u001b[0m\u001b[1;33m(\u001b[0m\u001b[1;33m[\u001b[0m\u001b[1;33m[\u001b[0m\u001b[1;33m-\u001b[0m\u001b[1;36m1\u001b[0m\u001b[1;33m,\u001b[0m \u001b[1;36m1\u001b[0m\u001b[1;33m]\u001b[0m\u001b[1;33m,\u001b[0m \u001b[1;33m[\u001b[0m\u001b[1;33m-\u001b[0m\u001b[1;36m1\u001b[0m\u001b[1;33m,\u001b[0m \u001b[1;36m1\u001b[0m\u001b[1;33m]\u001b[0m\u001b[1;33m,\u001b[0m \u001b[1;33m[\u001b[0m\u001b[1;33m-\u001b[0m\u001b[1;36m1\u001b[0m\u001b[1;33m,\u001b[0m \u001b[1;36m1\u001b[0m\u001b[1;33m]\u001b[0m\u001b[1;33m]\u001b[0m\u001b[1;33m,\u001b[0m \u001b[1;33m[\u001b[0m\u001b[1;36m4\u001b[0m\u001b[1;33m,\u001b[0m \u001b[1;36m4\u001b[0m\u001b[1;33m]\u001b[0m\u001b[1;33m,\u001b[0m \u001b[1;33m[\u001b[0m\u001b[0mnl\u001b[0m\u001b[1;33m.\u001b[0m\u001b[0mtrans\u001b[0m\u001b[1;33m.\u001b[0m\u001b[0mLogSig\u001b[0m\u001b[1;33m(\u001b[0m\u001b[1;33m)\u001b[0m\u001b[1;33m,\u001b[0m \u001b[0mnl\u001b[0m\u001b[1;33m.\u001b[0m\u001b[0mtrans\u001b[0m\u001b[1;33m.\u001b[0m\u001b[0mPureLin\u001b[0m\u001b[1;33m(\u001b[0m\u001b[1;33m)\u001b[0m\u001b[1;33m]\u001b[0m\u001b[1;33m)\u001b[0m\u001b[1;33m\u001b[0m\u001b[1;33m\u001b[0m\u001b[0m\n\u001b[0m\u001b[0;32m      4\u001b[0m \u001b[0mnl\u001b[0m\u001b[1;33m.\u001b[0m\u001b[0mtrain\u001b[0m\u001b[1;33m.\u001b[0m\u001b[0mtrain_gda\u001b[0m\u001b[1;33m(\u001b[0m\u001b[0mred\u001b[0m\u001b[1;33m,\u001b[0m \u001b[1;33m(\u001b[0m\u001b[0mnp\u001b[0m\u001b[1;33m.\u001b[0m\u001b[0mdouble\u001b[0m\u001b[1;33m(\u001b[0m\u001b[0mp\u001b[0m\u001b[1;33m)\u001b[0m \u001b[1;33m-\u001b[0m \u001b[1;36m127\u001b[0m\u001b[1;33m)\u001b[0m \u001b[1;33m/\u001b[0m \u001b[1;36m128\u001b[0m\u001b[1;33m,\u001b[0m \u001b[0mt\u001b[0m\u001b[1;33m,\u001b[0m \u001b[0mepochs\u001b[0m\u001b[1;33m=\u001b[0m\u001b[1;36m4000\u001b[0m\u001b[1;33m,\u001b[0m \u001b[0mshow\u001b[0m\u001b[1;33m=\u001b[0m\u001b[1;36m100\u001b[0m\u001b[1;33m,\u001b[0m \u001b[0mgoal\u001b[0m\u001b[1;33m=\u001b[0m\u001b[1;36m0.001\u001b[0m\u001b[1;33m)\u001b[0m\u001b[1;33m\u001b[0m\u001b[1;33m\u001b[0m\u001b[0m\n\u001b[0;32m      5\u001b[0m \u001b[1;33m\u001b[0m\u001b[0m\n",
      "\u001b[1;31mNameError\u001b[0m: name 'nl' is not defined"
     ]
    }
   ],
   "source": [
    "# Entreno la red neuronal con los datos obtenidos previamente\n",
    "\n",
    "red = nl.net.newff([[-1, 1], [-1, 1], [-1, 1]], [4, 4], [nl.trans.LogSig(), nl.trans.PureLin()])\n",
    "nl.train.train_gda(red, (np.double(p) - 127) / 128, t, epochs=4000, show=100, goal=0.001)\n",
    "\n",
    "salida = np.zeros(np.shape(im[0]))\n",
    "for x in range(0, np.shape(im[0])[0]):\n",
    "    for y in range(0, np.shape(im[0])[1]):\n",
    "        valor = red.sim([(im[0].getpixel((y, x)), im[1].getpixel((y, x)), im[2].getpixel((y, x)))])[0]\n",
    "        valor = (valor - max(valor) == 0.)\n",
    "        salida[x, y] = np.dot([1, 120, 200, 40], valor)\n",
    "\n",
    "plt.imshow(salida)\n",
    "pylab.show()"
   ]
  },
  {
   "cell_type": "code",
   "execution_count": 17,
   "metadata": {},
   "outputs": [
    {
     "data": {
      "text/plain": [
       "(209, 170)"
      ]
     },
     "execution_count": 17,
     "metadata": {},
     "output_type": "execute_result"
    }
   ],
   "source": [
    "np.shape(im[0])"
   ]
  },
  {
   "cell_type": "code",
   "execution_count": null,
   "metadata": {},
   "outputs": [],
   "source": []
  }
 ],
 "metadata": {
  "kernelspec": {
   "display_name": "Python 3",
   "language": "python",
   "name": "python3"
  },
  "language_info": {
   "codemirror_mode": {
    "name": "ipython",
    "version": 3
   },
   "file_extension": ".py",
   "mimetype": "text/x-python",
   "name": "python",
   "nbconvert_exporter": "python",
   "pygments_lexer": "ipython3",
   "version": "3.7.6"
  }
 },
 "nbformat": 4,
 "nbformat_minor": 4
}
